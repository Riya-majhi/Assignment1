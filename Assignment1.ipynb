{
 "cells": [
  {
   "cell_type": "markdown",
   "id": "42d595a5-009b-4e05-8c25-e992ae7bac10",
   "metadata": {},
   "source": [
    "Create one variable containing following type of data:"
   ]
  },
  {
   "cell_type": "markdown",
   "id": "3be5bf0a-0e41-428c-ae2b-60dd4624793a",
   "metadata": {},
   "source": [
    "(i) string"
   ]
  },
  {
   "cell_type": "code",
   "execution_count": 1,
   "id": "f09f336d-af42-4823-b214-c17b6ce2743f",
   "metadata": {},
   "outputs": [],
   "source": [
    "a = 'pw skills'"
   ]
  },
  {
   "cell_type": "code",
   "execution_count": 2,
   "id": "29db77bc-cb90-4150-9d42-f0a3435d3b54",
   "metadata": {},
   "outputs": [
    {
     "data": {
      "text/plain": [
       "str"
      ]
     },
     "execution_count": 2,
     "metadata": {},
     "output_type": "execute_result"
    }
   ],
   "source": [
    "type(a)"
   ]
  },
  {
   "cell_type": "markdown",
   "id": "05c252dd-d9f5-46d0-a037-91e47b022807",
   "metadata": {},
   "source": [
    "(ii) list"
   ]
  },
  {
   "cell_type": "code",
   "execution_count": 3,
   "id": "048e7883-2fb2-4df1-9a23-4420667515b3",
   "metadata": {},
   "outputs": [],
   "source": [
    "l = ['abc', 1,11,23.3,\"sts\"]"
   ]
  },
  {
   "cell_type": "code",
   "execution_count": 4,
   "id": "c01b2a3d-eb10-47b6-8076-afdb37b5973c",
   "metadata": {},
   "outputs": [
    {
     "data": {
      "text/plain": [
       "list"
      ]
     },
     "execution_count": 4,
     "metadata": {},
     "output_type": "execute_result"
    }
   ],
   "source": [
    "type(l)"
   ]
  },
  {
   "cell_type": "markdown",
   "id": "fc614fcb-bfc7-4902-91ad-fad27a354f9c",
   "metadata": {},
   "source": [
    "(iii) float"
   ]
  },
  {
   "cell_type": "code",
   "execution_count": 5,
   "id": "4dbda60d-0771-460d-ae25-00b41fa8bd49",
   "metadata": {},
   "outputs": [],
   "source": [
    "f = 45.456"
   ]
  },
  {
   "cell_type": "code",
   "execution_count": 6,
   "id": "47b83514-d145-43fa-8709-cff05a2fb5ca",
   "metadata": {},
   "outputs": [
    {
     "data": {
      "text/plain": [
       "float"
      ]
     },
     "execution_count": 6,
     "metadata": {},
     "output_type": "execute_result"
    }
   ],
   "source": [
    "type(f)"
   ]
  },
  {
   "cell_type": "markdown",
   "id": "60290c10-4211-4f6b-9e1a-6f9a2fed5cc5",
   "metadata": {},
   "source": [
    "(iv) tuple"
   ]
  },
  {
   "cell_type": "code",
   "execution_count": 7,
   "id": "f9b4a8c5-f2a5-48fc-bd1a-be77dae0ae52",
   "metadata": {},
   "outputs": [],
   "source": [
    "tup = (\"kashmir\", \"bir\", \"sisu\")"
   ]
  },
  {
   "cell_type": "code",
   "execution_count": 8,
   "id": "316a23d2-839a-43be-ae4d-497bf8da0a40",
   "metadata": {},
   "outputs": [
    {
     "data": {
      "text/plain": [
       "tuple"
      ]
     },
     "execution_count": 8,
     "metadata": {},
     "output_type": "execute_result"
    }
   ],
   "source": [
    "type(tup)"
   ]
  },
  {
   "cell_type": "markdown",
   "id": "5c7cd985-19f0-4fc9-8755-abb3da2dce6c",
   "metadata": {},
   "source": [
    "Q2. Given are some following variables containing data: What will be the data type of the above given variable."
   ]
  },
  {
   "cell_type": "markdown",
   "id": "4509643e-1ee0-4475-88d9-83d0ad058cf2",
   "metadata": {},
   "source": [
    "(i) var1 = ‘ ‘"
   ]
  },
  {
   "cell_type": "markdown",
   "id": "d8df93e9-0990-4a6b-aba3-ccf3e07cdce5",
   "metadata": {},
   "source": [
    "Ans : str"
   ]
  },
  {
   "cell_type": "markdown",
   "id": "f19cf538-8d09-4b66-a0c3-bb90ebafd807",
   "metadata": {},
   "source": [
    "(ii) var2 = ‘[ DS , ML , Python]’"
   ]
  },
  {
   "cell_type": "markdown",
   "id": "a8ca89ed-478e-4c0c-bcc9-5ae506757072",
   "metadata": {},
   "source": [
    "Ans : str"
   ]
  },
  {
   "cell_type": "markdown",
   "id": "7f995495-d0d5-487b-a6d4-458507aaa7c6",
   "metadata": {},
   "source": [
    "(iii) var3 = [ ‘DS’ , ’ML’ , ‘Python’ ]"
   ]
  },
  {
   "cell_type": "markdown",
   "id": "2360c81b-6819-4977-938e-33c24f13ddbc",
   "metadata": {},
   "source": [
    "Ans : list"
   ]
  },
  {
   "cell_type": "markdown",
   "id": "901399fa-eb0e-4751-a5a0-849a4b36416f",
   "metadata": {},
   "source": [
    "(iv) var4 = 1."
   ]
  },
  {
   "cell_type": "markdown",
   "id": "499a4fb2-fc1b-490f-9c14-c36e4badf7bb",
   "metadata": {},
   "source": [
    "Ans : integer"
   ]
  },
  {
   "cell_type": "markdown",
   "id": "f43c6391-13ad-4a27-ac89-4ce856b7996f",
   "metadata": {},
   "source": [
    "Q3. Explain the use of the following operators using an example:"
   ]
  },
  {
   "cell_type": "markdown",
   "id": "9ea00170-ba5f-42bc-806e-03624b49800f",
   "metadata": {},
   "source": [
    "(i) /"
   ]
  },
  {
   "cell_type": "markdown",
   "id": "d7839bb0-4d38-4333-8820-4682d4dfe19a",
   "metadata": {},
   "source": [
    "The / operator is division operator.  \n",
    "For example "
   ]
  },
  {
   "cell_type": "code",
   "execution_count": 9,
   "id": "2c3c2e92-6105-49ae-8446-be1afdf87b7d",
   "metadata": {},
   "outputs": [
    {
     "data": {
      "text/plain": [
       "2.0"
      ]
     },
     "execution_count": 9,
     "metadata": {},
     "output_type": "execute_result"
    }
   ],
   "source": [
    "4/2"
   ]
  },
  {
   "cell_type": "markdown",
   "id": "4b2bb2cd-02f0-44dc-8f73-8bb449b2c2e6",
   "metadata": {},
   "source": [
    "(ii) %"
   ]
  },
  {
   "cell_type": "markdown",
   "id": "1e79ee6b-bd50-4dfc-8e05-7ededa6582ab",
   "metadata": {},
   "source": [
    "The % known as modulus operator. It is used to find reminder between two operand\n",
    "For example:"
   ]
  },
  {
   "cell_type": "code",
   "execution_count": 10,
   "id": "bd13dd04-d01c-4558-ba8d-d9c9486b872b",
   "metadata": {},
   "outputs": [
    {
     "data": {
      "text/plain": [
       "0"
      ]
     },
     "execution_count": 10,
     "metadata": {},
     "output_type": "execute_result"
    }
   ],
   "source": [
    "4%4"
   ]
  },
  {
   "cell_type": "markdown",
   "id": "3f6ee919-2375-4045-93ee-5740f4634136",
   "metadata": {},
   "source": [
    "(iii) //"
   ]
  },
  {
   "cell_type": "markdown",
   "id": "ab3e6fc0-e204-4671-9207-6b84f2f7e434",
   "metadata": {},
   "source": [
    "The // is floor divison operator. It will divide the first operand by the second and round the result down to the nearest whole number\n",
    "For example"
   ]
  },
  {
   "cell_type": "code",
   "execution_count": 11,
   "id": "015492fb-9b0e-4e0f-8055-fbd7de296904",
   "metadata": {},
   "outputs": [
    {
     "data": {
      "text/plain": [
       "2"
      ]
     },
     "execution_count": 11,
     "metadata": {},
     "output_type": "execute_result"
    }
   ],
   "source": [
    "7//3"
   ]
  },
  {
   "cell_type": "markdown",
   "id": "1bf4c2e0-512b-47ad-a468-6487182f80bc",
   "metadata": {},
   "source": [
    "(iv) **"
   ]
  },
  {
   "cell_type": "markdown",
   "id": "ecbf40fd-8c5e-46c3-b439-c283b1067044",
   "metadata": {},
   "source": [
    "The ** is Exponentiation operator. It returns the result of raising the first operand to the power of the second operand. If 2**3 that means 2*2*2 and result will be 8"
   ]
  },
  {
   "cell_type": "code",
   "execution_count": 12,
   "id": "38d6d520-c9cb-4e70-bfe5-aded8181178d",
   "metadata": {},
   "outputs": [
    {
     "data": {
      "text/plain": [
       "8"
      ]
     },
     "execution_count": 12,
     "metadata": {},
     "output_type": "execute_result"
    }
   ],
   "source": [
    "2**3"
   ]
  },
  {
   "cell_type": "markdown",
   "id": "e5c53847-c572-44dd-8da5-0441b81d6ded",
   "metadata": {},
   "source": [
    "Q4. Create a list of length 10 of your choice containing multiple types of data. Using for loop print the\n",
    "element and its data type."
   ]
  },
  {
   "cell_type": "code",
   "execution_count": 13,
   "id": "428a85c8-fae3-4368-9a14-ec291bc2ed14",
   "metadata": {},
   "outputs": [
    {
     "name": "stdout",
     "output_type": "stream",
     "text": [
      "<class 'int'>\n",
      "<class 'int'>\n",
      "<class 'int'>\n",
      "<class 'str'>\n",
      "<class 'float'>\n",
      "<class 'str'>\n",
      "<class 'bool'>\n"
     ]
    }
   ],
   "source": [
    "l = [2,3,4,\"skills\",34.5,'riya', True]\n",
    "for i in l:\n",
    "    print(type(i))"
   ]
  },
  {
   "cell_type": "markdown",
   "id": "5317d2c8-5961-4f8c-b83e-f3904936c022",
   "metadata": {},
   "source": [
    "Q5. Using a while loop, verify if the number A is purely divisible by number B and if so then how many\n",
    "times it can be divisible."
   ]
  },
  {
   "cell_type": "code",
   "execution_count": 14,
   "id": "aaac6692-a3b0-4fb7-bfce-51ba93d2e773",
   "metadata": {},
   "outputs": [
    {
     "name": "stdin",
     "output_type": "stream",
     "text": [
      " 120\n",
      " 5\n"
     ]
    },
    {
     "name": "stdout",
     "output_type": "stream",
     "text": [
      "A is purely divisible by number B \n",
      " And it is divisible  24  times\n"
     ]
    }
   ],
   "source": [
    "A = int(input())\n",
    "B = int(input())\n",
    "count = 0\n",
    "while(A>0):\n",
    "    if(A%B != 0):\n",
    "        break;\n",
    "    else:\n",
    "        A=int(A/B)\n",
    "        count+= 1\n",
    "if(count==0):\n",
    "    print(\"A is not purely divisible by B\")\n",
    "else:\n",
    "    print(\"A is purely divisible by number B \\n And it is divisible \",A,\" times\")"
   ]
  },
  {
   "cell_type": "markdown",
   "id": "d2c31ed8-78d1-474e-8954-6f84bcdbd9a7",
   "metadata": {},
   "source": [
    "Q6. Create a list containing 25 int type data. Using for loop and if-else condition print if the element is\n",
    "divisible by 3 or not."
   ]
  },
  {
   "cell_type": "code",
   "execution_count": 15,
   "id": "0603388b-fc57-4614-93ce-cc6d5c468569",
   "metadata": {},
   "outputs": [
    {
     "name": "stdout",
     "output_type": "stream",
     "text": [
      "0  is divisible by 3\n",
      "1 is not divisible by 3\n",
      "2 is not divisible by 3\n",
      "3  is divisible by 3\n",
      "4 is not divisible by 3\n",
      "5 is not divisible by 3\n",
      "6  is divisible by 3\n",
      "7 is not divisible by 3\n",
      "8 is not divisible by 3\n",
      "9  is divisible by 3\n",
      "10 is not divisible by 3\n",
      "11 is not divisible by 3\n",
      "12  is divisible by 3\n",
      "13 is not divisible by 3\n",
      "14 is not divisible by 3\n",
      "15  is divisible by 3\n",
      "16 is not divisible by 3\n",
      "17 is not divisible by 3\n",
      "18  is divisible by 3\n",
      "19 is not divisible by 3\n",
      "20 is not divisible by 3\n",
      "21  is divisible by 3\n",
      "22 is not divisible by 3\n",
      "23 is not divisible by 3\n",
      "24  is divisible by 3\n"
     ]
    }
   ],
   "source": [
    "k = range(25)\n",
    "for i in k:\n",
    "    if(i%3==0):\n",
    "        print(i,\" is divisible by 3\")\n",
    "    else:\n",
    "        print(i,\"is not divisible by 3\")\n",
    "              "
   ]
  },
  {
   "cell_type": "markdown",
   "id": "f1ca4530-1016-4fbd-bf8b-762f4535f07e",
   "metadata": {},
   "source": [
    "Q7. What do you understand about mutable and immutable data types? Give examples for both showing\n",
    "this property."
   ]
  },
  {
   "cell_type": "markdown",
   "id": "c34c5f6d-cda6-4325-ba02-361b58eb7084",
   "metadata": {},
   "source": [
    "Mutable data types are those that allow to change their value or data in place without affecting the object's identity. In case of, immutable data type the value in place affecting the object's identity.\n",
    "\n",
    "immutable data types are - int , float, string, tuple \n",
    "mutable  - list, dictonary and sets"
   ]
  },
  {
   "cell_type": "code",
   "execution_count": 16,
   "id": "ed6147cc-3fd5-42bb-8dc2-1f0f2fd89479",
   "metadata": {},
   "outputs": [
    {
     "name": "stdout",
     "output_type": "stream",
     "text": [
      "e\n"
     ]
    },
    {
     "ename": "TypeError",
     "evalue": "'str' object does not support item assignment",
     "output_type": "error",
     "traceback": [
      "\u001b[0;31m---------------------------------------------------------------------------\u001b[0m",
      "\u001b[0;31mTypeError\u001b[0m                                 Traceback (most recent call last)",
      "Cell \u001b[0;32mIn[16], line 4\u001b[0m\n\u001b[1;32m      2\u001b[0m n \u001b[38;5;241m=\u001b[39m \u001b[38;5;124m'\u001b[39m\u001b[38;5;124mhello\u001b[39m\u001b[38;5;124m'\u001b[39m\n\u001b[1;32m      3\u001b[0m \u001b[38;5;28mprint\u001b[39m(n[\u001b[38;5;241m1\u001b[39m])\n\u001b[0;32m----> 4\u001b[0m \u001b[43mn\u001b[49m\u001b[43m[\u001b[49m\u001b[38;5;241;43m1\u001b[39;49m\u001b[43m]\u001b[49m\u001b[38;5;241m=\u001b[39m\u001b[38;5;124m'\u001b[39m\u001b[38;5;124mu\u001b[39m\u001b[38;5;124m'\u001b[39m\n\u001b[1;32m      5\u001b[0m \u001b[38;5;28mprint\u001b[39m(n[\u001b[38;5;241m1\u001b[39m])\n",
      "\u001b[0;31mTypeError\u001b[0m: 'str' object does not support item assignment"
     ]
    }
   ],
   "source": [
    "#immutable example using string\n",
    "n = 'hello'\n",
    "print(n[1])\n",
    "n[1]='u'\n",
    "print(n[1])"
   ]
  },
  {
   "cell_type": "code",
   "execution_count": 17,
   "id": "e4136f86-1885-47da-a626-c2eeae53307a",
   "metadata": {},
   "outputs": [
    {
     "name": "stdout",
     "output_type": "stream",
     "text": [
      "11\n",
      "88\n"
     ]
    }
   ],
   "source": [
    "#mutable example using list\n",
    "j = ['we',11,2,3.4]\n",
    "print(j[1])\n",
    "j[1]=88\n",
    "print(j[1])"
   ]
  },
  {
   "cell_type": "code",
   "execution_count": null,
   "id": "55e09e2e-840a-404a-8961-ab1346f294f5",
   "metadata": {},
   "outputs": [],
   "source": []
  }
 ],
 "metadata": {
  "kernelspec": {
   "display_name": "Python 3 (ipykernel)",
   "language": "python",
   "name": "python3"
  },
  "language_info": {
   "codemirror_mode": {
    "name": "ipython",
    "version": 3
   },
   "file_extension": ".py",
   "mimetype": "text/x-python",
   "name": "python",
   "nbconvert_exporter": "python",
   "pygments_lexer": "ipython3",
   "version": "3.10.8"
  }
 },
 "nbformat": 4,
 "nbformat_minor": 5
}
